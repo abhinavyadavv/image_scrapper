{
 "cells": [
  {
   "cell_type": "code",
   "execution_count": 1,
   "id": "0acde92d",
   "metadata": {},
   "outputs": [],
   "source": [
    "import logging\n",
    "import requests\n",
    "import os\n",
    "from bs4 import BeautifulSoup\n",
    "# BeautifulSoup is used to extractdata/scrap something from html,Xml pages \n",
    "from urllib.request import urlopen\n",
    "# And to request something to a particular server/cloud we use urllib.request"
   ]
  },
  {
   "cell_type": "code",
   "execution_count": 2,
   "id": "681ba95e",
   "metadata": {},
   "outputs": [],
   "source": [
    "# Now,we have to store the images,images we scrap from the web,for that we'll create a directory\n",
    "\n",
    "save_dir=\"images/\"\n",
    "\n",
    "# Now,we will write a directory for creating this folder,and for this we'll be using OS Module\n",
    "if not os.path.exists(save_dir):\n",
    "    os.makedirs(save_dir)"
   ]
  },
  {
   "cell_type": "code",
   "execution_count": 3,
   "id": "868b87ac",
   "metadata": {},
   "outputs": [],
   "source": [
    "query=\"elon musk\"\n",
    "# url = https://www.google.com/search?sca_esv=564584496&hl=en&sxsrf=AB5stBh5qpLQwi89scoETfpGlMe920FdsQ:1694493898786&q=query&tbm=isch&source=lnms&sa=X&ved=2ahUKEwix1qTXoaSBAxWgdmwGHR3YDg0Q0pQJegQIDhAB&biw=1280&bih=581&dpr=1.5"
   ]
  },
  {
   "cell_type": "code",
   "execution_count": 4,
   "id": "387b70e0",
   "metadata": {},
   "outputs": [],
   "source": [
    "# Now,we'll hit the above url with python,using our requests module,and if we want to open it we'll user urlopen,and once\n",
    "# we hit the request we'll be getting a response,so we store it into a repsonse named variable\n",
    "\n",
    "response=requests.get(f\"https://www.google.com/search?sca_esv=564584496&hl=en&sxsrf=AB5stBh5qpLQwi89scoETfpGlMe920FdsQ:1694493898786&q={query}&tbm=isch&source=lnms&sa=X&ved=2ahUKEwix1qTXoaSBAxWgdmwGHR3YDg0Q0pQJegQIDhAB&biw=1280&bih=581&dpr=1.5\")"
   ]
  },
  {
   "cell_type": "code",
   "execution_count": 5,
   "id": "21fefd26",
   "metadata": {},
   "outputs": [
    {
     "data": {
      "text/plain": [
       "<Response [200]>"
      ]
     },
     "execution_count": 5,
     "metadata": {},
     "output_type": "execute_result"
    }
   ],
   "source": [
    "response\n",
    "\n",
    "# A response with \"<Response [200]>\" typically indicates that a web request was successful.\n",
    "# Now,from this response, we can fetch the content as well and for the content we'll use beautifulsoup"
   ]
  },
  {
   "cell_type": "code",
   "execution_count": 9,
   "id": "cb73a19d",
   "metadata": {},
   "outputs": [],
   "source": [
    "# We're passing response.content here because from this reponse we want to fetch the content  \n",
    "\n",
    "soup=BeautifulSoup(response.content,\"html.parser\")"
   ]
  },
  {
   "cell_type": "code",
   "execution_count": null,
   "id": "597a5f2c",
   "metadata": {},
   "outputs": [],
   "source": [
    "soup\n",
    "# Now, this soup has all the html content,and now we'll extract images from this soup"
   ]
  },
  {
   "cell_type": "code",
   "execution_count": 13,
   "id": "f433f64f",
   "metadata": {},
   "outputs": [],
   "source": [
    "image_tags=soup.find_all(\"img\")"
   ]
  },
  {
   "cell_type": "code",
   "execution_count": 27,
   "id": "619e3619",
   "metadata": {},
   "outputs": [],
   "source": [
    "image_tags\n",
    "# Now we can notice that our first tag is just a description,so we'll delete our first tag,and our tag is in the form of \n",
    "# list"
   ]
  },
  {
   "cell_type": "code",
   "execution_count": 16,
   "id": "293fa960",
   "metadata": {},
   "outputs": [],
   "source": [
    "del image_tags[0]"
   ]
  },
  {
   "cell_type": "code",
   "execution_count": 28,
   "id": "ac0337e6",
   "metadata": {},
   "outputs": [],
   "source": [
    "image_tags"
   ]
  },
  {
   "cell_type": "code",
   "execution_count": 21,
   "id": "e5fa87b7",
   "metadata": {},
   "outputs": [
    {
     "data": {
      "text/plain": [
       "20"
      ]
     },
     "execution_count": 21,
     "metadata": {},
     "output_type": "execute_result"
    }
   ],
   "source": [
    "len(image_tags) \n",
    "# This basically means that in a single shot it is able to collect 20 images"
   ]
  },
  {
   "cell_type": "code",
   "execution_count": 22,
   "id": "aae73f97",
   "metadata": {},
   "outputs": [
    {
     "name": "stdout",
     "output_type": "stream",
     "text": [
      "https://encrypted-tbn0.gstatic.com/images?q=tbn:ANd9GcQ91bYeYuNi93Snai-G61-ct5IkXUEpoeW1RpiOFFuRWggNeJf-7uN0OZsy5XI&s\n",
      "https://encrypted-tbn0.gstatic.com/images?q=tbn:ANd9GcTyfAovNTQP5ALQ1Y-QbOPH6SReQet8pSd22pTGacqCEhTFC1iuqugTLTmuIew&s\n",
      "https://encrypted-tbn0.gstatic.com/images?q=tbn:ANd9GcSMYNRVFWT78z1HfCjjsXyWHH40VRIwjNiYar3jQYHUhnaCQJZ6GSxCQ6cYto8&s\n",
      "https://encrypted-tbn0.gstatic.com/images?q=tbn:ANd9GcQY_R5NSNoZkSlMo3hf86COGJ4fCv0s6Nx4k8uCGkWc6YGOn_m4-rIOQ3GhOhg&s\n",
      "https://encrypted-tbn0.gstatic.com/images?q=tbn:ANd9GcROdBCFHCN4JXHYRwVAPCCeHAIGuFYzAa-an8lBxfEFD3DlZM220wI7as84LQ&s\n",
      "https://encrypted-tbn0.gstatic.com/images?q=tbn:ANd9GcQvX-fmJAO94Ymbw6gA-TJYMsvglLY7ZplRHykg4Z267ntudS75vSBBOIvaUp8&s\n",
      "https://encrypted-tbn0.gstatic.com/images?q=tbn:ANd9GcRiUjYXnbLzwPnTzycn2ItHcUl6UbhYTYYF8JbaVC3rKLx4vjrTBnan-RRZq7Q&s\n",
      "https://encrypted-tbn0.gstatic.com/images?q=tbn:ANd9GcTSnt6EZzBnbNNR6sB9mBBSoTXiSq8KnYrIYDqr9RwQxSJEGTBc_3uvyAWSUw&s\n",
      "https://encrypted-tbn0.gstatic.com/images?q=tbn:ANd9GcS6mPr1g683xgMlTnJfswzPyIjixDUJCLKR_GUOYd43dGj0LB8Uum64r_cOjl4&s\n",
      "https://encrypted-tbn0.gstatic.com/images?q=tbn:ANd9GcRNHgZou-MQ063KAmK7EyFPmFuZk0XXt7gFEFM7MgTj4hXaMvIu_xgNQVnjRDY&s\n",
      "https://encrypted-tbn0.gstatic.com/images?q=tbn:ANd9GcQ4bZhNNVCbthTCApXsSNKWFth0vpsZ_6c-wVTFIV-E8ABkytP_9nqi4CCIWg&s\n",
      "https://encrypted-tbn0.gstatic.com/images?q=tbn:ANd9GcS6PtbO3oSFgC1yh6BPlre0Sr5h3aca6UrEmg7ibGUrD1g40Xm5cZBGYl7G3PU&s\n",
      "https://encrypted-tbn0.gstatic.com/images?q=tbn:ANd9GcTOyfmz7kQpAzLtmCqimufmpp_py6ghEU90lNH_82KccePw2nucrItQjPX0jQ&s\n",
      "https://encrypted-tbn0.gstatic.com/images?q=tbn:ANd9GcSV4uhEWDSTaZqynhWvPLaef8w77YsAOyyT3qzpnWGh2paUQhAY7MrZg_b4vAM&s\n",
      "https://encrypted-tbn0.gstatic.com/images?q=tbn:ANd9GcSwq0dm9LsIJFXhVpVi2-xb2VQSTdG7Tb92l9AIyKFFgrYonh1FnTbuvi-3Cw&s\n",
      "https://encrypted-tbn0.gstatic.com/images?q=tbn:ANd9GcRZsvJzLU6pIsYHkgOrPoKc24b7V1Yxu78cZNKDtLm9YAqp85dHkFqsIHrhiA&s\n",
      "https://encrypted-tbn0.gstatic.com/images?q=tbn:ANd9GcS2HPJBoNhP4tmZ-9hc3AyxgTDzqT-3FsObJKPh__Q-KFGFdHVxynog5HIh97Y&s\n",
      "https://encrypted-tbn0.gstatic.com/images?q=tbn:ANd9GcRQZseQ9bRxUwHLR5yk-VmJYFt7AuZKTqzI7n1im9SOTEk9qWAeEoQcfZ8l5g&s\n",
      "https://encrypted-tbn0.gstatic.com/images?q=tbn:ANd9GcRi6VsY0O4Rwi4daY2t-PuvdJGdeLzaZDeakW3gypf8wEN6zzIP7g1IsEv8008&s\n",
      "https://encrypted-tbn0.gstatic.com/images?q=tbn:ANd9GcQILx18FB2eFTKDNzNFxLhDfC3-YvK5XUT_gYQie2GvoccKnRP8mJEH6f-82SA&s\n"
     ]
    }
   ],
   "source": [
    "# Now,for next step we want to collect all these images into our directory,and for that I have to collect this src\n",
    "\n",
    "for i in image_tags:\n",
    "    print(i['src'])"
   ]
  },
  {
   "cell_type": "code",
   "execution_count": 26,
   "id": "e9002663",
   "metadata": {},
   "outputs": [],
   "source": [
    "# now,we'll download image,so for that we'll request our url\n",
    "# Now, our img_data will be in binary form we can also check this by running code only for one img like this\n",
    "# requests.get(\"https://encrypted-tbn0.gstatic.com/images?q=tbn:ANd9GcQILx18FB2eFTKDNzNFxLhDfC3-YvK5XUT_gYQie2GvoccKnRP8mJEH6f-82SA&s\").contents\n",
    "# Now,we'll write our img_data into our folder,so for thatv we'll open that directory\n",
    "# As we know that for each image,definately a name is required so we'll write our custome name inside this directory,\n",
    "# that's why we use join,to join the complete path,inside a folder there will be image name\n",
    "\n",
    "for i in image_tags:\n",
    "    image_url=i['src']\n",
    "    image_data=requests.get(image_url).content\n",
    "    with open(os.path.join(save_dir,f\"{query}_{image_tags.index(i)}.jpg\"),\"wb\") as f:\n",
    "        f.write(image_data)\n"
   ]
  },
  {
   "cell_type": "code",
   "execution_count": null,
   "id": "4016d72a",
   "metadata": {},
   "outputs": [],
   "source": []
  }
 ],
 "metadata": {
  "kernelspec": {
   "display_name": "Python 3 (ipykernel)",
   "language": "python",
   "name": "python3"
  },
  "language_info": {
   "codemirror_mode": {
    "name": "ipython",
    "version": 3
   },
   "file_extension": ".py",
   "mimetype": "text/x-python",
   "name": "python",
   "nbconvert_exporter": "python",
   "pygments_lexer": "ipython3",
   "version": "3.10.9"
  }
 },
 "nbformat": 4,
 "nbformat_minor": 5
}
